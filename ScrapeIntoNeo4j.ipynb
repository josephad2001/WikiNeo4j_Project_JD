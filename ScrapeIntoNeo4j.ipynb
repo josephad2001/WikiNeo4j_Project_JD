{
 "cells": [
  {
   "cell_type": "code",
   "execution_count": 1,
   "metadata": {},
   "outputs": [],
   "source": [
    "from collections import OrderedDict\n",
    "import requests\n",
    "from bs4 import BeautifulSoup\n",
    "def get_internal_links_with_title(url):\n",
    "    # Request the HTML source code of the Wikipedia page\n",
    "    response = requests.get(url)\n",
    "    html = response.text\n",
    "    \n",
    "    # Use BeautifulSoup to extract the links from the HTML\n",
    "    soup = BeautifulSoup(html, 'html.parser')\n",
    "    \n",
    "    # Find the main text container\n",
    "    main_text = soup.find(\"div\", class_=\"mw-body-content mw-content-ltr\")\n",
    "    \n",
    "    # Extract the links and titles from the main text container\n",
    "    links_and_titles = [(a['href'], a['title']) \n",
    "    for a in main_text.find_all('a', href=True) \n",
    "    if (a['href'].startswith('/wiki/') \n",
    "    and (a['href'].count(':') == 0) \n",
    "    and (a['href'].count('disambiguation') == 0))]\n",
    "    \n",
    "    # Convert the links to full URLs and remove duplicates while maintaining the order of the links\n",
    "    links_and_titles = list(OrderedDict.fromkeys(links_and_titles))\n",
    "    links_and_titles = [('https://en.wikipedia.org' + link, title) for link, title in links_and_titles]\n",
    "    \n",
    "    # Only return the first 10 links, or all links if there are less than 10\n",
    "    return links_and_titles[:10] if len(links_and_titles) >= 10 else links_and_titles\n"
   ]
  },
  {
   "cell_type": "code",
   "execution_count": 2,
   "metadata": {},
   "outputs": [],
   "source": [
    "import requests\n",
    "from bs4 import BeautifulSoup\n",
    "\n",
    "def get_article_title(url):\n",
    "    response = requests.get(url)\n",
    "    soup = BeautifulSoup(response.text, \"html.parser\")\n",
    "    title = soup.find(\"h1\").text\n",
    "    return title\n"
   ]
  },
  {
   "cell_type": "code",
   "execution_count": 3,
   "metadata": {},
   "outputs": [],
   "source": [
    "from neo4j import GraphDatabase\n",
    "\n",
    "def build_link_network(start_url, depth):\n",
    "    driver = GraphDatabase.driver(\"bolt://localhost:7687\", auth=(\"neo4j\", \"12345678\"))\n",
    "    session = driver.session()\n",
    "    \n",
    "    # Clear the database of any existing data (FOR TESTING)\n",
    "    # session.run(\"MATCH (n) DETACH DELETE n\")\n",
    "    \n",
    "    def traverse_links(url, depth, link_order):\n",
    "        links = get_internal_links_with_title(url)\n",
    "        title = get_article_title(url)\n",
    "        \n",
    "        # Create a node in the database for the current article\n",
    "        session.run(\"MERGE (b:Article {name: $name, title: $title})\", name=url, title=title)\n",
    "\n",
    "        \n",
    "        # Connect the current article to all of its links\n",
    "        for i, link in enumerate(links):\n",
    "            link_title = link[1]\n",
    "            link_url = link[0]\n",
    "            session.run(\"MERGE (b:Article {name: $name, title: $title})\", name=link_url, title=link_title)\n",
    "            session.run(\"MERGE (a:Article {name: $from_article}) MERGE (b:Article {name: $to_article}) MERGE (a)-[r:LINKS_TO]->(b) ON CREATE SET r.order_position = $order_position ON MATCH SET r.order_position = r.order_position\", from_article=url, to_article=link_url, order_position=link_order+i+1)\n",
    "        \n",
    "        if depth > 0:\n",
    "            for link in links:\n",
    "                traverse_links(link[0], depth-1, link_order+i+1)\n",
    "    if depth > 0:\n",
    "        traverse_links(start_url, depth-1, 0)\n",
    "    \n",
    "    session.close()\n",
    "    driver.close()\n"
   ]
  },
  {
   "cell_type": "code",
   "execution_count": 5,
   "metadata": {},
   "outputs": [],
   "source": [
    "build_link_network('https://en.wikipedia.org/wiki/Neo4j',4)"
   ]
  }
 ],
 "metadata": {
  "kernelspec": {
   "display_name": "Python 3",
   "language": "python",
   "name": "python3"
  },
  "language_info": {
   "codemirror_mode": {
    "name": "ipython",
    "version": 3
   },
   "file_extension": ".py",
   "mimetype": "text/x-python",
   "name": "python",
   "nbconvert_exporter": "python",
   "pygments_lexer": "ipython3",
   "version": "3.11.2"
  },
  "orig_nbformat": 4,
  "vscode": {
   "interpreter": {
    "hash": "8008c7938f0b86996fe1a6c007fe44f044e127b2c6c62467d3c523c2aca5bff7"
   }
  }
 },
 "nbformat": 4,
 "nbformat_minor": 2
}
