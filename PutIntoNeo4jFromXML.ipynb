{
 "cells": [
  {
   "cell_type": "code",
   "execution_count": 1,
   "metadata": {},
   "outputs": [
    {
     "name": "stdout",
     "output_type": "stream",
     "text": [
      "26719\n"
     ]
    },
    {
     "data": {
      "text/plain": [
       "0"
      ]
     },
     "execution_count": 1,
     "metadata": {},
     "output_type": "execute_result"
    }
   ],
   "source": [
    "import xml.etree.ElementTree as ET\n",
    "import gc\n",
    "\n",
    "# Step 1: Parse the Wikipedia dump file\n",
    "tree = ET.parse('D:/Wiki/WikiSplit/WikiDump_part451.xml')\n",
    "root = tree.getroot()\n",
    "\n",
    "articles = []\n",
    "\n",
    "for child in root:\n",
    "    if child.tag == '{http://www.mediawiki.org/xml/export-0.10/}page':\n",
    "        title = child.find('{http://www.mediawiki.org/xml/export-0.10/}title').text\n",
    "        text = child.find('{http://www.mediawiki.org/xml/export-0.10/}revision/{http://www.mediawiki.org/xml/export-0.10/}text').text\n",
    "        articles.append((title, text))\n",
    "print(len(articles))"
   ]
  }
 ],
 "metadata": {
  "kernelspec": {
   "display_name": "Python 3",
   "language": "python",
   "name": "python3"
  },
  "language_info": {
   "codemirror_mode": {
    "name": "ipython",
    "version": 3
   },
   "file_extension": ".py",
   "mimetype": "text/x-python",
   "name": "python",
   "nbconvert_exporter": "python",
   "pygments_lexer": "ipython3",
   "version": "3.11.1"
  },
  "orig_nbformat": 4,
  "vscode": {
   "interpreter": {
    "hash": "8008c7938f0b86996fe1a6c007fe44f044e127b2c6c62467d3c523c2aca5bff7"
   }
  }
 },
 "nbformat": 4,
 "nbformat_minor": 2
}
