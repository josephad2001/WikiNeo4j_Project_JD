{
 "cells": [
  {
   "cell_type": "markdown",
   "metadata": {},
   "source": []
  },
  {
   "cell_type": "code",
   "execution_count": 1,
   "metadata": {},
   "outputs": [],
   "source": [
    "import bz2\n",
    "dump_file_path = 'D:/Wiki/enwiki-20230101-pages-articles-multistream.xml.bz2'\n",
    "with bz2.open(dump_file_path, 'r') as dump_file:\n",
    "    file_number = 0\n",
    "    article_count = 0\n",
    "    output_file_path = f'D:\\Wiki\\WikiSplit\\WikiDump_part{file_number:03d}.xml'\n",
    "    output_file = open(output_file_path, 'wb')\n",
    "    for line in dump_file:\n",
    "        if b'<page>' in line:\n",
    "            article_count += 1\n",
    "            if article_count == 1:\n",
    "                for i in open('D:/Wiki/XMLTOP.txt','r').readlines():\n",
    "                    output_file.write(str.encode(i))\n",
    "                output_file.write(str.encode('\\n'))\n",
    "        if article_count < 50001 and article_count > 0:\n",
    "            output_file.write(line)\n",
    "        if article_count >= 50001:\n",
    "            output_file.write(str.encode(\"</mediawiki>\"))\n",
    "            output_file.close()\n",
    "            file_number += 1\n",
    "            output_file_path = f'D:\\Wiki\\WikiSplit\\WikiDump_part{file_number:03d}.xml'\n",
    "            output_file = open(output_file_path, 'wb')\n",
    "            article_count = 0\n",
    "    output_file.close()"
   ]
  }
 ],
 "metadata": {
  "kernelspec": {
   "display_name": "Python 3",
   "language": "python",
   "name": "python3"
  },
  "language_info": {
   "codemirror_mode": {
    "name": "ipython",
    "version": 3
   },
   "file_extension": ".py",
   "mimetype": "text/x-python",
   "name": "python",
   "nbconvert_exporter": "python",
   "pygments_lexer": "ipython3",
   "version": "3.11.1 (tags/v3.11.1:a7a450f, Dec  6 2022, 19:58:39) [MSC v.1934 64 bit (AMD64)]"
  },
  "orig_nbformat": 4,
  "vscode": {
   "interpreter": {
    "hash": "8008c7938f0b86996fe1a6c007fe44f044e127b2c6c62467d3c523c2aca5bff7"
   }
  }
 },
 "nbformat": 4,
 "nbformat_minor": 2
}
