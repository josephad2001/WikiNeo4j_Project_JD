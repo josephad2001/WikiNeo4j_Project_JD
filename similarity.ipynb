{
 "cells": [
  {
   "attachments": {},
   "cell_type": "markdown",
   "metadata": {},
   "source": [
    "Overlap coefficient\n",
    "Intersection size / Size of the smaller set\n",
    "https://en.wikipedia.org/wiki/Overlap_coefficient"
   ]
  },
  {
   "cell_type": "code",
   "execution_count": 2,
   "metadata": {},
   "outputs": [],
   "source": [
    "def common(driver,A1,A2):\n",
    "    query = '''\n",
    "    MATCH (n:Article {title:\"'''+A1+'''\"})-[]-(common)-[]-(a:Article {title:\"'''+A2+'''\"})\n",
    "    RETURN count(DISTINCT common)\n",
    "    '''\n",
    "    with driver.session() as session:\n",
    "        result = session.run(query)\n",
    "        for record in result:\n",
    "            return(record[\"count(DISTINCT common)\"])"
   ]
  },
  {
   "cell_type": "code",
   "execution_count": 3,
   "metadata": {},
   "outputs": [],
   "source": [
    "def neighbors(driver,A1):\n",
    "    query = '''\n",
    "    MATCH (n:Article {title:\"'''+ A1 +'''\"})-[r]-(m)\n",
    "    RETURN count(r)\n",
    "    '''\n",
    "    with driver.session() as session:\n",
    "        result = session.run(query)\n",
    "        for record in result:\n",
    "            return(record[\"count(r)\"])"
   ]
  },
  {
   "cell_type": "code",
   "execution_count": 6,
   "metadata": {},
   "outputs": [],
   "source": [
    "from neo4j import GraphDatabase\n",
    "def similarity(A1,A2):\n",
    "    uri = \"bolt://localhost:7687\"\n",
    "    user = \"neo4j\"\n",
    "    password = \"12345678\"\n",
    "    driver = GraphDatabase.driver(uri, auth=(user, password))\n",
    "\n",
    "    union_size = common(driver,A1,A2)\n",
    "    A1Size = neighbors(driver,A1)\n",
    "    A2Size = neighbors(driver,A2)\n",
    "\n",
    "    if A1Size > A2Size:\n",
    "        return union_size/A2Size\n",
    "    else:\n",
    "        return union_size/A1Size"
   ]
  },
  {
   "cell_type": "code",
   "execution_count": 7,
   "metadata": {},
   "outputs": [
    {
     "name": "stdout",
     "output_type": "stream",
     "text": [
      "0.22804054054054054\n"
     ]
    }
   ],
   "source": [
    "print(similarity(\"computer science\",\"data science\"))"
   ]
  },
  {
   "cell_type": "code",
   "execution_count": 8,
   "metadata": {},
   "outputs": [
    {
     "name": "stdout",
     "output_type": "stream",
     "text": [
      "0.01669195751138088\n"
     ]
    }
   ],
   "source": [
    "print(similarity(\"computer science\",\"laptop\"))"
   ]
  },
  {
   "cell_type": "code",
   "execution_count": 10,
   "metadata": {},
   "outputs": [
    {
     "name": "stdout",
     "output_type": "stream",
     "text": [
      "0.0012857602057216328\n"
     ]
    }
   ],
   "source": [
    "print(similarity(\"computer science\",\"dog\"))"
   ]
  }
 ],
 "metadata": {
  "kernelspec": {
   "display_name": "Python 3",
   "language": "python",
   "name": "python3"
  },
  "language_info": {
   "codemirror_mode": {
    "name": "ipython",
    "version": 3
   },
   "file_extension": ".py",
   "mimetype": "text/x-python",
   "name": "python",
   "nbconvert_exporter": "python",
   "pygments_lexer": "ipython3",
   "version": "3.11.2"
  },
  "orig_nbformat": 4
 },
 "nbformat": 4,
 "nbformat_minor": 2
}
