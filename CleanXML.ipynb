{
 "cells": [
  {
   "attachments": {},
   "cell_type": "markdown",
   "metadata": {
    "vscode": {
     "languageId": "plaintext"
    }
   },
   "source": [
    "This Code is used to take in each Part of the XML and remove non articles and articles with no content\n",
    "It will also separate out the links from the XML"
   ]
  },
  {
   "cell_type": "code",
   "execution_count": 12,
   "metadata": {},
   "outputs": [],
   "source": [
    "#Imports\n",
    "import xml.etree.ElementTree as ET"
   ]
  },
  {
   "cell_type": "code",
   "execution_count": 66,
   "metadata": {},
   "outputs": [],
   "source": [
    "# Step 1: Parse the Wikipedia dump file\n",
    "tree = ET.parse('C:\\\\Users\\\\josep\\\\Desktop\\\\Data Mine II\\\\WikiNeo4j_Project_JD\\\\TestFiles\\\\WikiParts\\WikiDump_part451.xml')\n",
    "root = tree.getroot()"
   ]
  },
  {
   "cell_type": "code",
   "execution_count": 62,
   "metadata": {},
   "outputs": [],
   "source": [
    "#Old clean test using keywords\n",
    "badwords = ['File','deletion','Draft','Template','Category']\n",
    "for child in root:\n",
    "    if child.tag == '{http://www.mediawiki.org/xml/export-0.10/}page':\n",
    "        title = child.find('{http://www.mediawiki.org/xml/export-0.10/}title').text\n",
    "        if any(word in title for word in badwords):\n",
    "            root.remove(child)\n",
    "            continue\n",
    "        if child.find('redirect') is not None:\n",
    "            root.remove(child)\n",
    "            continue"
   ]
  },
  {
   "cell_type": "code",
   "execution_count": null,
   "metadata": {},
   "outputs": [],
   "source": [
    "#New Clean Using Keywords\n",
    "for element in doc_root.xpath('//ds:*', namespaces=nsmap):\n",
    "    element.getparent().remove(element)\n",
    "return doc_root"
   ]
  },
  {
   "cell_type": "code",
   "execution_count": 67,
   "metadata": {},
   "outputs": [
    {
     "name": "stdout",
     "output_type": "stream",
     "text": [
      "26719\n"
     ]
    }
   ],
   "source": [
    "print(len(root.findall('{http://www.mediawiki.org/xml/export-0.10/}page')))"
   ]
  },
  {
   "cell_type": "code",
   "execution_count": 63,
   "metadata": {},
   "outputs": [],
   "source": [
    "tree.write('C:\\\\Users\\\\josep\\\\Desktop\\\\Data Mine II\\\\WikiNeo4j_Project_JD\\\\TestFiles\\\\WikiParts_Cleaned\\WikiDump_part451.xml')"
   ]
  }
 ],
 "metadata": {
  "kernelspec": {
   "display_name": "Python 3",
   "language": "python",
   "name": "python3"
  },
  "language_info": {
   "codemirror_mode": {
    "name": "ipython",
    "version": 3
   },
   "file_extension": ".py",
   "mimetype": "text/x-python",
   "name": "python",
   "nbconvert_exporter": "python",
   "pygments_lexer": "ipython3",
   "version": "3.11.2"
  },
  "orig_nbformat": 4
 },
 "nbformat": 4,
 "nbformat_minor": 2
}
